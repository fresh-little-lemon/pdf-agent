{
 "cells": [
  {
   "cell_type": "code",
   "execution_count": null,
   "metadata": {
    "vscode": {
     "languageId": "shellscript"
    }
   },
   "outputs": [],
   "source": [
    "conda create -n pdf-agent python=3.12 -y\n",
    "conda activate pdf-agent\n",
    "pip install torch==2.6.0 torchvision==0.21.0 torchaudio==2.6.0 --index-url https://download.pytorch.org/whl/cu124\n",
    "pip install transformers==4.51.3\n",
    "pip install ipykernel\n",
    "pip install Beautifulsoup4\n",
    "pip install pillow\n",
    "pip install openai\n",
    "pip install qwen-vl-utils[decord]\n",
    "pip install streamlit\n",
    "pip install pymupdf\n",
    "export MODELSCOPE_SDK_TOKEN=f04a1e88-dfe6-4b5b-8828-dab5c9b7987e"
   ]
  },
  {
   "cell_type": "code",
   "execution_count": null,
   "metadata": {
    "vscode": {
     "languageId": "powershell"
    }
   },
   "outputs": [],
   "source": [
    "$env:MODELSCOPE_SDK_TOKEN = \"f04a1e88-dfe6-4b5b-8828-dab5c9b7987e\""
   ]
  }
 ],
 "metadata": {
  "kernelspec": {
   "display_name": "ui-agent-qwenvl",
   "language": "python",
   "name": "python3"
  },
  "language_info": {
   "name": "python",
   "version": "3.12.11"
  }
 },
 "nbformat": 4,
 "nbformat_minor": 2
}
